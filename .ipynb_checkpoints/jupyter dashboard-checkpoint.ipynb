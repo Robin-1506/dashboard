{
 "cells": [
  {
   "cell_type": "code",
   "execution_count": null,
   "id": "6db52488",
   "metadata": {},
   "outputs": [],
   "source": [
    "import streamlit as st\n",
    "import pandas as pd\n",
    "import matplotlib.pyplot as plt\n",
    "import seaborn as sns"
   ]
  },
  {
   "cell_type": "code",
   "execution_count": null,
   "id": "7c9777c4",
   "metadata": {},
   "outputs": [],
   "source": [
    "# Charger les données\n",
    "file_path = \"rapport_pharmacie.xlsx\"\n",
    "stats_df = pd.read_excel(file_path, sheet_name=\"Statistiques descriptives\", engine=\"openpyxl\")\n",
    "monthly_df = pd.read_excel(file_path, sheet_name=\"Synthèse mensuelle\", engine=\"openpyxl\")"
   ]
  },
  {
   "cell_type": "code",
   "execution_count": null,
   "id": "a9b4ca24",
   "metadata": {},
   "outputs": [],
   "source": [
    "# Ajouter une colonne avec les noms de mois en français\n",
    "mois_fr = ['janvier', 'février', 'mars', 'avril', 'mai', 'juin',\n",
    "           'juillet', 'août', 'septembre', 'octobre', 'novembre', 'décembre']\n",
    "monthly_df[\"NomMois\"] = monthly_df[\"Month\"].apply(lambda x: mois_fr[x - 1])\n",
    "monthly_df[\"Date\"] = pd.to_datetime(monthly_df[[\"Year\", \"Month\"]].assign(DAY=1))"
   ]
  },
  {
   "cell_type": "code",
   "execution_count": null,
   "id": "510033a8",
   "metadata": {},
   "outputs": [],
   "source": [
    "# Colonnes numériques\n",
    "numeric_cols = monthly_df.select_dtypes(include='number').columns[2:]\n",
    "monthly_df[\"TotalVentes\"] = monthly_df[numeric_cols].sum(axis=1)\n",
    "total_sales = monthly_df[numeric_cols].sum()"
   ]
  },
  {
   "cell_type": "code",
   "execution_count": null,
   "id": "dca9b75e",
   "metadata": {},
   "outputs": [],
   "source": [
    "# Titre principal\n",
    "st.title(\"📊 Dashboard des ventes de médicaments - Pharmacie\")"
   ]
  },
  {
   "cell_type": "code",
   "execution_count": null,
   "id": "0c925474",
   "metadata": {},
   "outputs": [],
   "source": [
    "# Onglets\n",
    "tab1, tab2, tab3 = st.tabs([\"📊 Statistiques & Synthèse\", \"📈 Évolution & Recherche\", \"🧑‍⚕️ Analyse stratégique\"])"
   ]
  },
  {
   "cell_type": "code",
   "execution_count": null,
   "id": "a880d2e6",
   "metadata": {},
   "outputs": [],
   "source": [
    "# Onglet 1 : Statistiques descriptives + Synthèse\n",
    "with tab1:\n",
    "    st.header(\"🔍 Statistiques descriptives\")\n",
    "    st.dataframe(stats_df, use_container_width=True)\n",
    "\n",
    "    st.header(\"📊 Synthèse des ventes totales\")\n",
    "    fig2, ax2 = plt.subplots()\n",
    "    sns.barplot(x=total_sales.index, y=total_sales.values, ax=ax2)\n",
    "    ax2.set_title(\"Ventes totales par type de médicament\")\n",
    "    ax2.set_xlabel(\"Type de médicament\")\n",
    "    ax2.set_ylabel(\"Ventes totales\")\n",
    "    plt.xticks(rotation=45)\n",
    "    st.pyplot(fig2, use_container_width=True)"
   ]
  },
  {
   "cell_type": "code",
   "execution_count": null,
   "id": "f770e79f",
   "metadata": {},
   "outputs": [],
   "source": [
    "# Onglet 2 : Évolution mensuelle + Recherche ciblée\n",
    "with tab2:\n",
    "    st.header(\"📈 Évolution mensuelle des ventes\")\n",
    "    selected_product = st.selectbox(\"Choisissez un médicament\", monthly_df.columns[2:])\n",
    "    fig, ax = plt.subplots()\n",
    "    sns.lineplot(data=monthly_df, x=\"Date\", y=selected_product, ax=ax)\n",
    "    ax.set_title(f\"Évolution des ventes - {selected_product}\")\n",
    "    ax.set_xlabel(\"Date\")\n",
    "    ax.set_ylabel(\"Ventes\")\n",
    "    st.pyplot(fig, use_container_width=True)\n",
    "\n",
    "    st.header(\"🔎 Recherche ciblée\")\n",
    "    selected_year = st.selectbox(\"Année\", sorted(monthly_df[\"Year\"].unique()))\n",
    "    selected_month_name = st.selectbox(\"Mois\", mois_fr)\n",
    "    selected_month = mois_fr.index(selected_month_name) + 1\n",
    "    selected_product_2 = st.selectbox(\"Produit\", monthly_df.columns[2:])\n",
    "    filtered_value = monthly_df[\n",
    "        (monthly_df[\"Year\"] == selected_year) &\n",
    "        (monthly_df[\"Month\"] == selected_month)\n",
    "    ][selected_product_2].values\n",
    "    if filtered_value.size > 0:\n",
    "        st.success(f\"Ventes de {selected_product_2} en {selected_month_name} {selected_year} : {filtered_value[0]}\")\n",
    "    else:\n",
    "        st.warning(\"Aucune donnée disponible pour cette sélection.\")"
   ]
  },
  {
   "cell_type": "code",
   "execution_count": null,
   "id": "0763ed44",
   "metadata": {},
   "outputs": [],
   "source": [
    "# Onglet 3 : Analyse stratégique\n",
    "with tab3:\n",
    "    st.header(\"📊 Vue d’ensemble des ventes\")\n",
    "    fig_overview, ax_overview = plt.subplots()\n",
    "    sns.lineplot(data=monthly_df, x=\"Date\", y=\"TotalVentes\", ax=ax_overview)\n",
    "    ax_overview.set_title(\"Vue d’ensemble des ventes mensuelles\")\n",
    "    st.pyplot(fig_overview, use_container_width=True)\n",
    "\n",
    "    st.header(\"📉 Produits à forte variation\")\n",
    "    variations = monthly_df[numeric_cols].std().sort_values(ascending=False)\n",
    "    fig_var, ax_var = plt.subplots()\n",
    "    sns.barplot(x=variations.index, y=variations.values, ax=ax_var)\n",
    "    ax_var.set_title(\"Produits à forte variation de ventes\")\n",
    "    ax_var.set_ylabel(\"Écart-type des ventes\")\n",
    "    plt.xticks(rotation=45)\n",
    "    st.pyplot(fig_var, use_container_width=True)\n",
    "\n",
    "    st.header(\"🏆 Produits les plus vendus\")\n",
    "    top_products = total_sales.sort_values(ascending=False).head(5)\n",
    "    fig_top, ax_top = plt.subplots()\n",
    "    sns.barplot(x=top_products.index, y=top_products.values, ax=ax_top)\n",
    "    ax_top.set_title(\"Top 5 des produits les plus vendus\")\n",
    "    st.pyplot(fig_top, use_container_width=True)\n",
    "\n",
    "    st.header(\"📅 Saisonnalité des ventes\")\n",
    "    monthly_avg = monthly_df.groupby(\"Month\")[numeric_cols].mean()\n",
    "    fig_season, ax_season = plt.subplots()\n",
    "    sns.heatmap(monthly_avg.T, cmap=\"YlGnBu\", ax=ax_season)\n",
    "    ax_season.set_title(\"Saisonnalité des ventes par produit\")\n",
    "    st.pyplot(fig_season, use_container_width=True)\n",
    "\n",
    "    st.header(\"📉 Produits faibles en ventes\")\n",
    "    low_products = total_sales.sort_values().head(5)\n",
    "    fig_low, ax_low = plt.subplots()\n",
    "    sns.barplot(x=low_products.index, y=low_products.values, ax=ax_low)\n",
    "    ax_low.set_title(\"Produits avec les ventes les plus faibles\")\n",
    "    st.pyplot(fig_low, use_container_width=True)\n",
    "\n",
    "    st.header(\"📊 Comparaison par catégorie\")\n",
    "    fig_cat, ax_cat = plt.subplots()\n",
    "    sns.boxplot(data=monthly_df[numeric_cols], ax=ax_cat)\n",
    "    ax_cat.set_title(\"Distribution des ventes par catégorie de médicament\")\n",
    "    plt.xticks(rotation=45)\n",
    "    st.pyplot(fig_cat, use_container_width=True)\n",
    "\n",
    "    st.header(\"📈 Analyse temporelle\")\n",
    "    fig_time, ax_time = plt.subplots()\n",
    "    sns.lineplot(data=monthly_df, x=\"Date\", y=\"TotalVentes\", ax=ax_time)\n",
    "    ax_time.set_title(\"Analyse temporelle des ventes globales\")\n",
    "    st.pyplot(fig_time, use_container_width=True)\n",
    "\n",
    "    st.header(\"💡 Opportunités d’amélioration\")\n",
    "    st.markdown(\"\"\"\n",
    "    - Renforcer la promotion des produits à faible vente.\n",
    "    - Adapter les stocks selon la saisonnalité observée.\n",
    "    - Cibler les produits à forte variation pour des campagnes spécifiques.\n",
    "    \"\"\")\n",
    "\n",
    "    st.header(\"📌 Propositions stratégiques\")\n",
    "    st.markdown(\"\"\"\n",
    "    - Mettre en place un suivi mensuel automatisé des ventes.\n",
    "    - Développer des partenariats pour les produits clés.\n",
    "    - Optimiser les catégories sous-performantes.\n",
    "    \"\"\")"
   ]
  }
 ],
 "metadata": {
  "language_info": {
   "name": "python"
  }
 },
 "nbformat": 4,
 "nbformat_minor": 5
}
